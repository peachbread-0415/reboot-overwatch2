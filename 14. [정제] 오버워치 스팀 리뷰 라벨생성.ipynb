{
 "cells": [
  {
   "cell_type": "markdown",
   "id": "ae16d867",
   "metadata": {},
   "source": [
    "# 오버워치2 리뷰 감성분석"
   ]
  },
  {
   "cell_type": "markdown",
   "id": "8b38af23",
   "metadata": {},
   "source": [
    "## 데이터 준비\n",
    "* 데이터프레임 : user_reviews (유저리뷰)\n",
    "* 열이름\n",
    "    * text : 리뷰본문\n",
    "    * label : 0(negative) | 1(positive)"
   ]
  },
  {
   "cell_type": "code",
   "execution_count": 1,
   "id": "051deb39",
   "metadata": {},
   "outputs": [],
   "source": [
    "import pandas as pd"
   ]
  },
  {
   "cell_type": "code",
   "execution_count": 2,
   "id": "f4de3d20",
   "metadata": {},
   "outputs": [],
   "source": [
    "user_reviews = pd.read_csv(\"최종_유저데이터4차.csv\", encoding='utf-8-sig')"
   ]
  },
  {
   "cell_type": "code",
   "execution_count": 3,
   "id": "fa76baf6",
   "metadata": {},
   "outputs": [],
   "source": [
    "# id와 리뷰 본문만 추출\n",
    "text = user_reviews[['SteamID64','text']]"
   ]
  },
  {
   "cell_type": "markdown",
   "id": "f936bbf0",
   "metadata": {},
   "source": [
    "## 라벨 컬럼 추가\n",
    "* VADER 약라벨 생성\n",
    "    * VADER? - 수작업으로 라벨링된 데이터가 없는 상황에서 긍/부정을 빠르게 분류\n",
    "    * 학습에 필요한 모델이 아님\n",
    "        * 전체 데이터에 적용하여 감성 점수 부여.\n",
    "        * 이 점수를 나중에 지도 학습 모델의 훈련 데이터로 활용 가능"
   ]
  },
  {
   "cell_type": "code",
   "execution_count": 4,
   "id": "30195fdc",
   "metadata": {},
   "outputs": [],
   "source": [
    "import pandas as pd\n",
    "import re\n",
    "import nltk\n",
    "from nltk.sentiment import SentimentIntensityAnalyzer"
   ]
  },
  {
   "cell_type": "code",
   "execution_count": 5,
   "id": "a6f4456e",
   "metadata": {},
   "outputs": [
    {
     "name": "stderr",
     "output_type": "stream",
     "text": [
      "[nltk_data] Downloading package vader_lexicon to\n",
      "[nltk_data]     C:\\Users\\user\\AppData\\Roaming\\nltk_data...\n",
      "[nltk_data]   Package vader_lexicon is already up-to-date!\n"
     ]
    }
   ],
   "source": [
    "# VADER 준비 (최초 1회만 필요)\n",
    "nltk.download('vader_lexicon')\n",
    "sia = SentimentIntensityAnalyzer()"
   ]
  },
  {
   "cell_type": "code",
   "execution_count": 6,
   "id": "ed754ed8",
   "metadata": {},
   "outputs": [],
   "source": [
    "# 함수: 감성 점수 → 라벨\n",
    "def vader_label(text):\n",
    "    comp = sia.polarity_scores(str(text))['compound']\n",
    "    if comp >= 0.05:\n",
    "        return 'positive'\n",
    "    elif comp <= -0.05:\n",
    "        return 'negative'\n",
    "    else:\n",
    "        return 'neutral'"
   ]
  },
  {
   "cell_type": "code",
   "execution_count": 7,
   "id": "cc7e360d",
   "metadata": {},
   "outputs": [
    {
     "name": "stderr",
     "output_type": "stream",
     "text": [
      "C:\\Users\\user\\AppData\\Local\\Temp\\ipykernel_10712\\3181526408.py:2: SettingWithCopyWarning: \n",
      "A value is trying to be set on a copy of a slice from a DataFrame.\n",
      "Try using .loc[row_indexer,col_indexer] = value instead\n",
      "\n",
      "See the caveats in the documentation: https://pandas.pydata.org/pandas-docs/stable/user_guide/indexing.html#returning-a-view-versus-a-copy\n",
      "  text['vader_label'] = text['text'].apply(vader_label)\n",
      "C:\\Users\\user\\AppData\\Local\\Temp\\ipykernel_10712\\3181526408.py:3: SettingWithCopyWarning: \n",
      "A value is trying to be set on a copy of a slice from a DataFrame.\n",
      "Try using .loc[row_indexer,col_indexer] = value instead\n",
      "\n",
      "See the caveats in the documentation: https://pandas.pydata.org/pandas-docs/stable/user_guide/indexing.html#returning-a-view-versus-a-copy\n",
      "  text['compound'] = text['text'].apply(lambda x: sia.polarity_scores(str(x))['compound'])\n"
     ]
    }
   ],
   "source": [
    "# 약라벨 컬럼 생성\n",
    "text['vader_label'] = text['text'].apply(vader_label)\n",
    "text['compound'] = text['text'].apply(lambda x: sia.polarity_scores(str(x))['compound'])"
   ]
  },
  {
   "cell_type": "code",
   "execution_count": 8,
   "id": "d2666a4f",
   "metadata": {},
   "outputs": [
    {
     "data": {
      "text/html": [
       "<div>\n",
       "<style scoped>\n",
       "    .dataframe tbody tr th:only-of-type {\n",
       "        vertical-align: middle;\n",
       "    }\n",
       "\n",
       "    .dataframe tbody tr th {\n",
       "        vertical-align: top;\n",
       "    }\n",
       "\n",
       "    .dataframe thead th {\n",
       "        text-align: right;\n",
       "    }\n",
       "</style>\n",
       "<table border=\"1\" class=\"dataframe\">\n",
       "  <thead>\n",
       "    <tr style=\"text-align: right;\">\n",
       "      <th></th>\n",
       "      <th>SteamID64</th>\n",
       "      <th>text</th>\n",
       "      <th>vader_label</th>\n",
       "      <th>compound</th>\n",
       "    </tr>\n",
       "  </thead>\n",
       "  <tbody>\n",
       "    <tr>\n",
       "      <th>0</th>\n",
       "      <td>76561198089026294</td>\n",
       "      <td>really bad</td>\n",
       "      <td>negative</td>\n",
       "      <td>-0.5849</td>\n",
       "    </tr>\n",
       "    <tr>\n",
       "      <th>1</th>\n",
       "      <td>76561198840751916</td>\n",
       "      <td>wen game</td>\n",
       "      <td>neutral</td>\n",
       "      <td>0.0000</td>\n",
       "    </tr>\n",
       "    <tr>\n",
       "      <th>2</th>\n",
       "      <td>76561199758331866</td>\n",
       "      <td>ww</td>\n",
       "      <td>neutral</td>\n",
       "      <td>0.0000</td>\n",
       "    </tr>\n",
       "    <tr>\n",
       "      <th>3</th>\n",
       "      <td>76561198309660819</td>\n",
       "      <td>Really annoying sometimes, really fun sometimes</td>\n",
       "      <td>positive</td>\n",
       "      <td>0.1531</td>\n",
       "    </tr>\n",
       "    <tr>\n",
       "      <th>4</th>\n",
       "      <td>76561199125555677</td>\n",
       "      <td>I love this balanced game and matchmaking is a...</td>\n",
       "      <td>positive</td>\n",
       "      <td>0.8402</td>\n",
       "    </tr>\n",
       "  </tbody>\n",
       "</table>\n",
       "</div>"
      ],
      "text/plain": [
       "           SteamID64                                               text  \\\n",
       "0  76561198089026294                                         really bad   \n",
       "1  76561198840751916                                           wen game   \n",
       "2  76561199758331866                                                 ww   \n",
       "3  76561198309660819    Really annoying sometimes, really fun sometimes   \n",
       "4  76561199125555677  I love this balanced game and matchmaking is a...   \n",
       "\n",
       "  vader_label  compound  \n",
       "0    negative   -0.5849  \n",
       "1     neutral    0.0000  \n",
       "2     neutral    0.0000  \n",
       "3    positive    0.1531  \n",
       "4    positive    0.8402  "
      ]
     },
     "execution_count": 8,
     "metadata": {},
     "output_type": "execute_result"
    }
   ],
   "source": [
    "text.head()"
   ]
  },
  {
   "cell_type": "code",
   "execution_count": 9,
   "id": "66fe234b",
   "metadata": {},
   "outputs": [],
   "source": [
    "text = text.dropna(subset=[\"text\"]).reset_index(drop=True)"
   ]
  },
  {
   "cell_type": "code",
   "execution_count": 10,
   "id": "43495f56",
   "metadata": {},
   "outputs": [],
   "source": [
    "# 절대값이 작은 샘플은 제거해서 신뢰도를 높임\n",
    "text_filt = text[text[\"compound\"].abs() >= 0.2].reset_index(drop=True)"
   ]
  },
  {
   "cell_type": "code",
   "execution_count": 11,
   "id": "1e8c4142",
   "metadata": {},
   "outputs": [],
   "source": [
    "# neutral 라벨 제거 - 긍정/부정만 남은 이진 분류 전용 데이터프레임을 만듦\n",
    "bin_df = text_filt[text_filt[\"vader_label\"] != \"neutral\"].reset_index(drop=True)"
   ]
  },
  {
   "cell_type": "code",
   "execution_count": 12,
   "id": "6acc0f13",
   "metadata": {},
   "outputs": [],
   "source": [
    "# nagative:0, positive:1로 고치기 -  딥러닝 모델 학습용 레이블로 사용 가능\n",
    "bin_df[\"label_id\"] = bin_df[\"vader_label\"].map({\"negative\":0, \"positive\":1})"
   ]
  },
  {
   "cell_type": "code",
   "execution_count": 13,
   "id": "79dc0003",
   "metadata": {},
   "outputs": [
    {
     "name": "stdout",
     "output_type": "stream",
     "text": [
      "vader_label\n",
      "positive    5090\n",
      "negative    3422\n",
      "Name: count, dtype: int64\n"
     ]
    }
   ],
   "source": [
    "# 데이터 긍/부정 비율 확인\n",
    "print(bin_df[\"vader_label\"].value_counts())"
   ]
  },
  {
   "cell_type": "markdown",
   "id": "ef2a59b7",
   "metadata": {},
   "source": [
    "## train/test로 나누기\n",
    "\n",
    "* train_df : 학습용 80%\n",
    "* valid_df : 검증용 10%\n",
    "* test_df : 최종 평가용 10%"
   ]
  },
  {
   "cell_type": "code",
   "execution_count": 14,
   "id": "6734ac6b",
   "metadata": {},
   "outputs": [],
   "source": [
    "from sklearn.model_selection import train_test_split"
   ]
  },
  {
   "cell_type": "code",
   "execution_count": 15,
   "id": "aad3023f",
   "metadata": {},
   "outputs": [],
   "source": [
    "# train떼어내기\n",
    "train_df, temp_df = train_test_split(\n",
    "    bin_df, test_size=0.2, random_state=42, stratify=bin_df[\"label_id\"])"
   ]
  },
  {
   "cell_type": "code",
   "execution_count": 16,
   "id": "57afcffb",
   "metadata": {},
   "outputs": [],
   "source": [
    "# temp_df를 valid/test로 나누기\n",
    "valid_df, test_df = train_test_split(\n",
    "    temp_df, test_size=0.5, random_state=42, stratify=temp_df[\"label_id\"])"
   ]
  },
  {
   "cell_type": "markdown",
   "id": "f2d7c271",
   "metadata": {},
   "source": [
    "### 전처리"
   ]
  },
  {
   "cell_type": "code",
   "execution_count": 17,
   "id": "e25ad7af",
   "metadata": {},
   "outputs": [],
   "source": [
    "EMOJI_RE = re.compile(\n",
    "    \"[\" \n",
    "    u\"\\U0001F600-\\U0001F64F\"  # emoticons\n",
    "    u\"\\U0001F300-\\U0001F5FF\"  # symbols & pictographs\n",
    "    u\"\\U0001F680-\\U0001F6FF\"  # transport & map symbols\n",
    "    u\"\\U0001F1E0-\\U0001F1FF\"  # flags\n",
    "    u\"\\U00002700-\\U000027BF\"\n",
    "    u\"\\U0001F900-\\U0001F9FF\"\n",
    "    u\"\\U00002600-\\U000026FF\"\n",
    "    u\"\\U00002B00-\\U00002BFF\"\n",
    "    u\"\\U000024C2-\\U0001F251\"\n",
    "    \"]+\", flags=re.UNICODE\n",
    ")\n",
    "\n",
    "URL_RE      = re.compile(r\"(https?://\\S+|www\\.\\S+)\")\n",
    "EMAIL_RE    = re.compile(r\"\\b[\\w\\.-]+@[\\w\\.-]+\\.\\w+\\b\")\n",
    "HTML_TAG_RE = re.compile(r\"<[^>]+>\")\n",
    "USER_MENT_RE= re.compile(r\"@\\w+\")        # @user\n",
    "HASHTAG_RE  = re.compile(r\"#(\\w+)\")      # #word -> word\n",
    "WS_RE       = re.compile(r\"\\s+\")"
   ]
  },
  {
   "cell_type": "code",
   "execution_count": 19,
   "id": "9b1d355e",
   "metadata": {},
   "outputs": [],
   "source": [
    "def clean_text(s: str) -> str:\n",
    "    s = str(s)\n",
    "    s = URL_RE.sub(\" \", s)\n",
    "    s = EMAIL_RE.sub(\" \", s)\n",
    "    s = HTML_TAG_RE.sub(\" \", s)\n",
    "    s = USER_MENT_RE.sub(\" \", s)\n",
    "    s = HASHTAG_RE.sub(r\"\\1\", s)         # 해시태그 기호만 제거, 단어는 보존\n",
    "    s = EMOJI_RE.sub(\" \", s)\n",
    "    # 스마트 따옴표 등 통일(선택)\n",
    "    s = s.replace(\"’\",\"'\").replace(\"“\",\"\\\"\").replace(\"”\",\"\\\"\")\n",
    "    # 소문자화 (DistilBERT-uncased와 일관성)\n",
    "    s = s.lower()\n",
    "    # 공백 정리\n",
    "    s = WS_RE.sub(\" \", s).strip()\n",
    "    return s"
   ]
  },
  {
   "cell_type": "code",
   "execution_count": 23,
   "id": "5e615931",
   "metadata": {},
   "outputs": [
    {
     "name": "stdout",
     "output_type": "stream",
     "text": [
      "VALID acc: 0.8648648648648649 f1: 0.8851148851148851\n",
      "TEST  acc: 0.8615023474178404 f1: 0.8805668016194332\n",
      "              precision    recall  f1-score   support\n",
      "\n",
      "           0     0.8016    0.8717    0.8352       343\n",
      "           1     0.9081    0.8546    0.8806       509\n",
      "\n",
      "    accuracy                         0.8615       852\n",
      "   macro avg     0.8549    0.8632    0.8579       852\n",
      "weighted avg     0.8653    0.8615    0.8623       852\n",
      "\n"
     ]
    }
   ],
   "source": [
    "from sklearn.feature_extraction.text import TfidfVectorizer\n",
    "from sklearn.svm import LinearSVC\n",
    "from sklearn.pipeline import Pipeline\n",
    "from sklearn.metrics import accuracy_score, f1_score, classification_report\n",
    "\n",
    "# 파이프라인 정의 + 학습\n",
    "pipe = Pipeline([\n",
    "    (\"tfidf\", TfidfVectorizer(\n",
    "        ngram_range=(1,2),\n",
    "        min_df=2, max_df=0.95,\n",
    "        sublinear_tf=True,\n",
    "        stop_words=\"english\"   # 영어면 유지, 아니면 제거\n",
    "    )),\n",
    "    (\"clf\", LinearSVC(class_weight=\"balanced\", random_state=42))\n",
    "])\n",
    "\n",
    "pipe.fit(train_df[\"text_clean\"], train_df[\"label_id\"])\n",
    "\n",
    "# 평가(원하면 valid/test 둘 다)\n",
    "val_pred  = pipe.predict(valid_df[\"text_clean\"])\n",
    "test_pred = pipe.predict(test_df[\"text_clean\"])\n",
    "\n",
    "print(\"VALID acc:\", accuracy_score(valid_df[\"label_id\"], val_pred), \"f1:\", f1_score(valid_df[\"label_id\"], val_pred))\n",
    "print(\"TEST  acc:\", accuracy_score(test_df[\"label_id\"],  test_pred), \"f1:\", f1_score(test_df[\"label_id\"],  test_pred))\n",
    "print(classification_report(test_df[\"label_id\"], test_pred, digits=4))\n"
   ]
  },
  {
   "cell_type": "code",
   "execution_count": 24,
   "id": "f1d23471",
   "metadata": {},
   "outputs": [],
   "source": [
    "# 각 split에 전처리 열 추가 (원문은 보존)\n",
    "for _df in (train_df, valid_df, test_df):\n",
    "    _df[\"text_clean\"] = _df[\"text\"].apply(clean_text)\n",
    "    # 길이 0된 건 드랍\n",
    "    _df.dropna(subset=[\"text_clean\"], inplace=True)\n",
    "    _df = _df[_df[\"text_clean\"].str.len() > 0].reset_index(drop=True)"
   ]
  },
  {
   "cell_type": "code",
   "execution_count": 25,
   "id": "4d2d46fa",
   "metadata": {},
   "outputs": [
    {
     "data": {
      "text/html": [
       "<div>\n",
       "<style scoped>\n",
       "    .dataframe tbody tr th:only-of-type {\n",
       "        vertical-align: middle;\n",
       "    }\n",
       "\n",
       "    .dataframe tbody tr th {\n",
       "        vertical-align: top;\n",
       "    }\n",
       "\n",
       "    .dataframe thead th {\n",
       "        text-align: right;\n",
       "    }\n",
       "</style>\n",
       "<table border=\"1\" class=\"dataframe\">\n",
       "  <thead>\n",
       "    <tr style=\"text-align: right;\">\n",
       "      <th></th>\n",
       "      <th>text</th>\n",
       "      <th>text_clean</th>\n",
       "      <th>label_id</th>\n",
       "    </tr>\n",
       "  </thead>\n",
       "  <tbody>\n",
       "    <tr>\n",
       "      <th>8112</th>\n",
       "      <td>Reinstall the game after years of not playing ...</td>\n",
       "      <td>reinstall the game after years of not playing ...</td>\n",
       "      <td>0</td>\n",
       "    </tr>\n",
       "    <tr>\n",
       "      <th>4597</th>\n",
       "      <td>CNM SB Blizzard Log in to a game and bind the ...</td>\n",
       "      <td>cnm sb blizzard log in to a game and bind the ...</td>\n",
       "      <td>0</td>\n",
       "    </tr>\n",
       "    <tr>\n",
       "      <th>7060</th>\n",
       "      <td>There is no queue at all</td>\n",
       "      <td>there is no queue at all</td>\n",
       "      <td>0</td>\n",
       "    </tr>\n",
       "    <tr>\n",
       "      <th>3030</th>\n",
       "      <td>Product Received For Free  It's Overwatch righ...</td>\n",
       "      <td>product received for free it's overwatch right...</td>\n",
       "      <td>1</td>\n",
       "    </tr>\n",
       "    <tr>\n",
       "      <th>5401</th>\n",
       "      <td>The first episode was much better</td>\n",
       "      <td>the first episode was much better</td>\n",
       "      <td>1</td>\n",
       "    </tr>\n",
       "  </tbody>\n",
       "</table>\n",
       "</div>"
      ],
      "text/plain": [
       "                                                   text  \\\n",
       "8112  Reinstall the game after years of not playing ...   \n",
       "4597  CNM SB Blizzard Log in to a game and bind the ...   \n",
       "7060                           There is no queue at all   \n",
       "3030  Product Received For Free  It's Overwatch righ...   \n",
       "5401                  The first episode was much better   \n",
       "\n",
       "                                             text_clean  label_id  \n",
       "8112  reinstall the game after years of not playing ...         0  \n",
       "4597  cnm sb blizzard log in to a game and bind the ...         0  \n",
       "7060                           there is no queue at all         0  \n",
       "3030  product received for free it's overwatch right...         1  \n",
       "5401                  the first episode was much better         1  "
      ]
     },
     "execution_count": 25,
     "metadata": {},
     "output_type": "execute_result"
    }
   ],
   "source": [
    "train_df[[\"text\", \"text_clean\", \"label_id\"]].head(5)"
   ]
  },
  {
   "cell_type": "code",
   "execution_count": 26,
   "id": "d0477fc3",
   "metadata": {},
   "outputs": [
    {
     "name": "stdout",
     "output_type": "stream",
     "text": [
      "0.8615023474178404\n",
      "              precision    recall  f1-score   support\n",
      "\n",
      "           0       0.80      0.87      0.84       343\n",
      "           1       0.91      0.85      0.88       509\n",
      "\n",
      "    accuracy                           0.86       852\n",
      "   macro avg       0.85      0.86      0.86       852\n",
      "weighted avg       0.87      0.86      0.86       852\n",
      "\n"
     ]
    }
   ],
   "source": [
    "test_pred = pipe.predict(test_df[\"text_clean\"])\n",
    "print(accuracy_score(test_df[\"label_id\"], test_pred))\n",
    "print(classification_report(test_df[\"label_id\"], test_pred))"
   ]
  },
  {
   "cell_type": "markdown",
   "id": "09a8dd61",
   "metadata": {},
   "source": [
    "* 정확도 : 약 0.86\n",
    "* 1(긍정)예측이 0(부정)예측보다 조금 더 정확함"
   ]
  },
  {
   "cell_type": "code",
   "execution_count": null,
   "id": "aee13bac",
   "metadata": {},
   "outputs": [],
   "source": [
    "# 저장\n",
    "train_df.to_pickle(\"20. train_df.pkl\", protocol=5)\n",
    "valid_df.to_pickle(\"20. valid_df.pkl\", protocol=5)\n",
    "test_df.to_pickle(\"20. test_df.pkl\", protocol=5)\n",
    "\n",
    "# 로드\n",
    "# train_df = pd.read_pickle(\"20. train_df.pkl\")\n",
    "# valid_df = pd.read_pickle(\"20. valid_df.pkl\")\n",
    "# test_df  = pd.read_pickle(\"20. test_df.pkl\")"
   ]
  }
 ],
 "metadata": {
  "kernelspec": {
   "display_name": "Python 3",
   "language": "python",
   "name": "python3"
  },
  "language_info": {
   "codemirror_mode": {
    "name": "ipython",
    "version": 3
   },
   "file_extension": ".py",
   "mimetype": "text/x-python",
   "name": "python",
   "nbconvert_exporter": "python",
   "pygments_lexer": "ipython3",
   "version": "3.10.1"
  }
 },
 "nbformat": 4,
 "nbformat_minor": 5
}
